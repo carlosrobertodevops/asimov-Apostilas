{
 "cells": [
  {
   "cell_type": "code",
   "execution_count": 5,
   "id": "8ef1502c-b6f5-4d26-b539-f9724af297cf",
   "metadata": {},
   "outputs": [],
   "source": [
    "import logging\n",
    "import MetaTrader5 as mt5\n",
    "import json\n",
    "from datetime import date, datetime, timedelta, time\n",
    "import pandas as pd\n",
    "import numpy as np\n",
    "import os"
   ]
  },
  {
   "cell_type": "code",
   "execution_count": 2,
   "id": "644eec3a-cc86-4797-8b86-fe68fbc56499",
   "metadata": {},
   "outputs": [],
   "source": [
    "file_path = 'C:\\\\Users\\\\rodri\\\\OneDrive\\\\Área de Trabalho\\\\credentials.json'\n",
    "with open(file_path) as f: \n",
    "    credentials = json.load(f)\n",
    "login = credentials['loginJson']\n",
    "password = credentials['passwordJson']\n",
    "server = credentials['serverJson']"
   ]
  },
  {
   "cell_type": "code",
   "execution_count": 4,
   "id": "d9f7c03b-9637-4fec-8649-1b768de513b6",
   "metadata": {},
   "outputs": [],
   "source": [
    "if not mt5.initialize(login=login, password=password, server=server, path=\"C:\\\\Program Files\\\\MetaTrader 5 Terminal\\\\terminal64.exe\"):\n",
    "            print(\"initialize() failed, error code = \", mt5.last_error())\n",
    "            mt5.shutdown(); quit()"
   ]
  },
  {
   "cell_type": "code",
   "execution_count": 6,
   "id": "4cdda2a9-ef42-4ae3-9849-34f8b751e39f",
   "metadata": {},
   "outputs": [],
   "source": [
    "initial_date = datetime(2020,1,1)\n",
    "final_date = datetime.now()\n",
    "ticker = 'AGRO3'"
   ]
  },
  {
   "cell_type": "code",
   "execution_count": 8,
   "id": "e9cfd696-a62b-4248-a0d5-66f8f2a4d309",
   "metadata": {},
   "outputs": [],
   "source": [
    "ticks = mt5.copy_ticks_range(\n",
    "                ticker, \n",
    "                initial_date, \n",
    "                final_date, \n",
    "                mt5.COPY_TICKS_TRADE\n",
    "                )"
   ]
  },
  {
   "cell_type": "code",
   "execution_count": 11,
   "id": "66522423-0a46-41eb-8588-5fb1df12e0ec",
   "metadata": {},
   "outputs": [],
   "source": [
    "df = pd.DataFrame(ticks)"
   ]
  },
  {
   "cell_type": "code",
   "execution_count": 14,
   "id": "074ea623-d4bc-4045-917d-0cf2946f4199",
   "metadata": {},
   "outputs": [
    {
     "data": {
      "text/plain": [
       "Index(['time', 'bid', 'ask', 'last', 'volume', 'time_msc', 'flags',\n",
       "       'volume_real'],\n",
       "      dtype='object')"
      ]
     },
     "execution_count": 14,
     "metadata": {},
     "output_type": "execute_result"
    }
   ],
   "source": [
    "df['time'] = pd.to_datetime(df['time'], unit = 's')\n",
    "df.columns"
   ]
  },
  {
   "cell_type": "code",
   "execution_count": null,
   "id": "920c7e2b-62d6-4a4e-a431-b70795b4efbd",
   "metadata": {},
   "outputs": [],
   "source": []
  },
  {
   "cell_type": "code",
   "execution_count": null,
   "id": "6024020b-4eef-453a-a283-5db200849916",
   "metadata": {},
   "outputs": [],
   "source": []
  }
 ],
 "metadata": {
  "kernelspec": {
   "display_name": "Python 3 (ipykernel)",
   "language": "python",
   "name": "python3"
  },
  "language_info": {
   "codemirror_mode": {
    "name": "ipython",
    "version": 3
   },
   "file_extension": ".py",
   "mimetype": "text/x-python",
   "name": "python",
   "nbconvert_exporter": "python",
   "pygments_lexer": "ipython3",
   "version": "3.10.4"
  }
 },
 "nbformat": 4,
 "nbformat_minor": 5
}
