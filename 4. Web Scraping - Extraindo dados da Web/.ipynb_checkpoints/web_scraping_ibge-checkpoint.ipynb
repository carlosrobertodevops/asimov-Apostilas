{
 "cells": [
  {
   "cell_type": "code",
   "execution_count": 2,
   "id": "c17abe4d-9226-4d40-b1bf-5ca3a4861deb",
   "metadata": {},
   "outputs": [],
   "source": [
    "import requests\n",
    "from bs4 import BeautifulSoup\n",
    "import pandas as pd"
   ]
  },
  {
   "cell_type": "code",
   "execution_count": 3,
   "id": "4a79f64d-10e6-44af-8334-3ff943a15ab1",
   "metadata": {},
   "outputs": [],
   "source": [
    "def scrap_state_info(state: str) -> dict:\n",
    "    state_url = f'https://www.ibge.gov.br/cidades-e-estados/{state}.html'\n",
    "    page = requests.get(state_url)\n",
    "    \n",
    "    soup = BeautifulSoup(page.content, 'html.parser')\n",
    "    indicadors = soup.select('.indicador')\n",
    "    #indicadors = soup.find_all('div')\n",
    "    \n",
    "    state_dict = {\n",
    "        ind.select('.ind-label')[0].text: ind.select('.ind-value')[0].text\n",
    "        for ind in indicadors\n",
    "    }\n",
    "    \n",
    "    \n",
    "    \n",
    "    return state_dict\n",
    "          "
   ]
  },
  {
   "cell_type": "code",
   "execution_count": 4,
   "id": "a10c8baf-3276-4114-ba16-61bdd551970d",
   "metadata": {},
   "outputs": [],
   "source": [
    "sampa = scrap_state_info('sp')"
   ]
  },
  {
   "cell_type": "code",
   "execution_count": 5,
   "id": "4e99c636-1299-448c-bfbd-9e232a544dcb",
   "metadata": {},
   "outputs": [
    {
     "data": {
      "text/plain": [
       "{'Governador': 'RODRIGO GARCIA\\xa0\\xa0\\xa0[2019]',\n",
       " 'Capital': 'São Paulo\\xa0\\xa0\\xa0[2010]',\n",
       " 'Gentílico': 'paulista',\n",
       " 'Área Territorial': '248.219,485 km²\\xa0\\xa0\\xa0[2021]',\n",
       " 'População estimada': '46.649.132 pessoas\\xa0\\xa0\\xa0[2021]',\n",
       " 'Densidade demográfica': '166,25 hab/km²\\xa0\\xa0\\xa0[2010]',\n",
       " 'Matrículas no ensino fundamental': '5.396.803 matrículas\\xa0\\xa0\\xa0[2021]',\n",
       " 'IDH Índice de desenvolvimento humano': '0,783\\xa0\\xa0\\xa0[2010]',\n",
       " 'Receitas realizadas': '232.822.496,57 R$ (×1000)\\xa0\\xa0\\xa0[2017]',\n",
       " 'Despesas empenhadas': '231.982.243,69 R$ (×1000)\\xa0\\xa0\\xa0[2017]',\n",
       " 'Rendimento mensal domiciliar per capita': '1.836 R$\\xa0\\xa0\\xa0[2021]',\n",
       " 'Total de veículos': '31.455.473 veículos\\xa0\\xa0\\xa0[2021]'}"
      ]
     },
     "execution_count": 5,
     "metadata": {},
     "output_type": "execute_result"
    }
   ],
   "source": [
    "sampa"
   ]
  },
  {
   "cell_type": "code",
   "execution_count": 6,
   "id": "df0f3aab-6d11-4732-a5fa-2af440b9cd39",
   "metadata": {},
   "outputs": [
    {
     "data": {
      "text/plain": [
       "{'Governador': 'RODRIGO GARCIA',\n",
       " 'Capital': 'São Paulo',\n",
       " 'Gentílico': 'paulista',\n",
       " 'Área Territorial': '248.219,485 km²',\n",
       " 'População estimada': '46.649.132 pessoas',\n",
       " 'Densidade demográfica': '166,25 hab/km²',\n",
       " 'Matrículas no ensino fundamental': '5.396.803 matrículas',\n",
       " 'IDH Índice de desenvolvimento humano': '0,783',\n",
       " 'Receitas realizadas': '232.822.496,57 R$ (×1000)',\n",
       " 'Despesas empenhadas': '231.982.243,69 R$ (×1000)',\n",
       " 'Rendimento mensal domiciliar per capita': '1.836 R$',\n",
       " 'Total de veículos': '31.455.473 veículos'}"
      ]
     },
     "execution_count": 6,
     "metadata": {},
     "output_type": "execute_result"
    }
   ],
   "source": [
    "for indicador in sampa:\n",
    "    if ']' in sampa[indicador]:\n",
    "        sampa[indicador] = sampa[indicador].split(']')[0][:-8]\n",
    "    else:\n",
    "        sampa[indicador] = sampa[indicador]\n",
    "sampa"
   ]
  },
  {
   "cell_type": "code",
   "execution_count": 8,
   "id": "7c415401-a631-46ab-a7ae-8b5b532858e4",
   "metadata": {},
   "outputs": [
    {
     "data": {
      "text/plain": [
       "{'Governador': 'RODRIGO GARCIA',\n",
       " 'Capital': 'São Paulo',\n",
       " 'Gentílico': 'paulista',\n",
       " 'Área Territorial': '248.219,485 km²',\n",
       " 'População estimada': '46.649.132 pessoas',\n",
       " 'Densidade demográfica': '166,25 hab/km²',\n",
       " 'Matrículas no ensino fundamental': '5.396.803 matrículas',\n",
       " 'IDH Índice de desenvolvimento humano': '0,783',\n",
       " 'Receitas realizadas': '232.822.496,57 R$ (×1000)',\n",
       " 'Despesas empenhadas': '231.982.243,69 R$ (×1000)',\n",
       " 'Rendimento mensal domiciliar per capita': '1.836 R$',\n",
       " 'Total de veículos': '31.455.473 veículos'}"
      ]
     },
     "execution_count": 8,
     "metadata": {},
     "output_type": "execute_result"
    }
   ],
   "source": [
    "sampa"
   ]
  },
  {
   "cell_type": "code",
   "execution_count": 10,
   "id": "70249103-0187-445b-900d-90f3bbb866d8",
   "metadata": {},
   "outputs": [],
   "source": [
    "df = pd.DataFrame(sampa.values(), index=sampa.keys())"
   ]
  },
  {
   "cell_type": "code",
   "execution_count": null,
   "id": "d78b730d-06af-4ba5-a51d-78c7e1dc04a0",
   "metadata": {},
   "outputs": [],
   "source": []
  }
 ],
 "metadata": {
  "kernelspec": {
   "display_name": "Python 3 (ipykernel)",
   "language": "python",
   "name": "python3"
  },
  "language_info": {
   "codemirror_mode": {
    "name": "ipython",
    "version": 3
   },
   "file_extension": ".py",
   "mimetype": "text/x-python",
   "name": "python",
   "nbconvert_exporter": "python",
   "pygments_lexer": "ipython3",
   "version": "3.9.12"
  }
 },
 "nbformat": 4,
 "nbformat_minor": 5
}
