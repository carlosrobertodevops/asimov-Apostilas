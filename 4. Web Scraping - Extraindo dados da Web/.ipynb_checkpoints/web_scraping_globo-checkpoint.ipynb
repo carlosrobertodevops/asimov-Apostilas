{
 "cells": [
  {
   "cell_type": "code",
   "execution_count": 42,
   "id": "ddd32d59-87df-46af-96c0-4c688b0ef2ef",
   "metadata": {},
   "outputs": [],
   "source": [
    "import requests\n",
    "from bs4 import BeautifulSoup\n",
    "import pandas as pd"
   ]
  },
  {
   "cell_type": "code",
   "execution_count": 46,
   "id": "f61b6403-4dff-4b0b-ac4f-d1e4215d7c7d",
   "metadata": {},
   "outputs": [
    {
     "data": {
      "text/plain": [
       "<Response [200]>"
      ]
     },
     "execution_count": 46,
     "metadata": {},
     "output_type": "execute_result"
    }
   ],
   "source": [
    "globo_url = 'https://www.globo.com/'\n",
    "page = requests.get(globo_url)\n",
    "page"
   ]
  },
  {
   "cell_type": "code",
   "execution_count": 47,
   "id": "4318f9b6-cde8-419c-9e46-9ae1dc995b04",
   "metadata": {},
   "outputs": [],
   "source": [
    "resposta = page.text\n",
    "soup = BeautifulSoup(resposta, 'html.parser')\n",
    "#indicadors = soup.select('.classificacao')\n",
    "indicadors = soup.find_all('h2', {'class': 'post__title'})"
   ]
  },
  {
   "cell_type": "code",
   "execution_count": 51,
   "id": "34e559c4-b853-4f9c-8535-42451e58b633",
   "metadata": {},
   "outputs": [
    {
     "name": "stdout",
     "output_type": "stream",
     "text": [
      "Receita abre consulta ao último lote de restituição do Imposto de Renda\n",
      "Mais de 1 milhão de declarações caíram na malha fina do IR \n",
      "Veja principais motivos que levaram os contribuintes à malha do leão\n",
      "Gás de cozinha fica 6% mais barato para as distribuidoras a partir de hoje\n",
      "Seleção estreia camisa da Copa hoje contra Gana\n",
      "Vendas para a decisão da Liberta começam hoje\n",
      "Novo goleiro-artilheiro do São Paulo entra no radar de Ceni aos 17 anos\n",
      "Federer é ovacionado na entrada para despedida\n",
      "'Pantanal': Alcides conta a Maria que cumpriu vingança e matou Tenório \n",
      "Torturado e estuprado, Alcides faz pedido para Zaquieu\n",
      "Cena de morte de Solano rende elogios a Alanis como Juma: 'Fez história'\n",
      "'Onça mãe', Ju Paes elogia: 'Muito orgulhosa. Fiquei emocionada'\n",
      "Reveja cena de 1990 em que Juma vira onça contra Solano\n",
      "Eliezer celebra bebê que terá com Viih Tube: 'O pai mais babão do mundo'\n",
      "Campanha culpa Bolsonaro por alta rejeição, diz blog\n",
      "Blog: corrida presidencial é a mais estável desde 94\n",
      "Blog: guerra do voto útil ainda não atingiu eleitorado\n",
      "QG de Bolsonaro quer mudar regra de debate\n",
      "STF forma maioria para tornar Malta réu por calúnia \n",
      "Datafolha: 69% dizem que há corrupção no governo\n",
      "g1 explica em detalhes como são feitas as pesquisas\n",
      "Aumenta percepção de que Lula criou Auxílio \n",
      "Rússia inicia 'referendos' em áreas ocupadas\n",
      "EUA e Coreia do Sul pressionam Kim Jong-un\n",
      "Peão de 18 anos morre em rodeio em SP; imagens fortes\n",
      "Jovem perdeu o capacete ao ser atingido por touro \n",
      "Polaroid entra no mundo da música com alto-falantes e streaming de rádio\n",
      "Entenda como falsos chats de sexo enganam homens pelo mundo \n",
      "‘Estou sendo rastreado?’ Ferramenta grátis diz se celular tem app espião\n",
      "Celular Xiaomi tira fotos incríveis de 108 megapixels; conheça\n",
      "Sucesso como Maria Bruaca, atriz tem editora artesanal como sonho de vida\n",
      "Viola Davis: 'Sempre tive que responder a essa narrativa racista e perdi tempo'\n",
      "Morre Hilary Mantel, premiada escritora britânica de romances históricos\n",
      "Pé de moleque, pudim, pipoca: veja como fazer sorvete com sabor de sobremesas clássicas\n",
      "Sorvete engorda? Faz mal à garganta inflamada? Confira dicas de consumo saudável\n",
      "Alegre o dia do seu bichinho com picolés 'pet friendly' nutritivos e muito gostosos\n",
      "Candoca perde a paciência com Deodora e rasga vestido em festão\n",
      "Pat confronta Joca e rechaça Olívia por esconderem verdade sobre Lou\n",
      "Programa estreava há 10 anos com final 100% feminina e mais emoções\n",
      "'A Próxima Vítima' chega ao Globoplay; veja 'antes e depois' do elenco\n",
      "Sabe aquela série cheia de adrenalina, que prende a sua atenção? É 'Arcanjo Renegado'\n",
      "Inspirada em casos reais, reais até demais; não perca!\n",
      "Mikhael tem sede de justiça; assine e veja a 2ª temporada\n",
      "Porta-aviões dos EUA chega à Coreia do Sul para pressionar Pyongyang\n",
      "Corpo da jornalista ex-GloboNews Renata Canales é enterrado no interior de SP\n",
      "Lagarto gigante tenta entrar por janela de casa na Flórida; vídeo\n",
      "Regiões ocupadas na Ucrânia iniciam referendos de anexação à Rússia\n",
      "Criança de 3 anos encontra pistola de pai colecionador e atira no irmão gêmeo, no AP\n",
      "Após fazer gol, atacante leva voadora nas costas de colega de time em jogo do acesso\n",
      "CBF não vai badalar recorde 'da Fifa' de Neymar caso ele supere Pelé; entenda\n",
      "Acesso do Cruzeiro com festa de R9 e torcida é notícia pelo mundo\n",
      "Vasco assume 2º lugar do grupo no Brasileiro Sub-17 após bater o Fla\n",
      "Menina encontra figurinha 'de ouro' do Neymar e chama a atenção do jogador \n",
      "Pantanal: Alcides revelará a Maria que matou Tenório \n",
      "Pantanal: após ser estuprado por Tenório, Alcides faz pedido para Zaquieu\n",
      "Web fica chocada ao ver Juma virar onça e matar Solano em Pantanal\n",
      "De menina rebelde a respeitada artista: a trajetória da filha de Isabela Garcia\n",
      "Alessandra Negrini encara noite de academia e mostra beleza sem make\n"
     ]
    }
   ],
   "source": [
    "for i in range(len(indicadors)):\n",
    "    print(indicadors[i].text)"
   ]
  },
  {
   "cell_type": "code",
   "execution_count": 50,
   "id": "8a0c05c8-4511-4146-a1aa-f0a90c42331f",
   "metadata": {},
   "outputs": [
    {
     "data": {
      "text/plain": [
       "58"
      ]
     },
     "execution_count": 50,
     "metadata": {},
     "output_type": "execute_result"
    }
   ],
   "source": [
    "len(indicadors)"
   ]
  },
  {
   "cell_type": "code",
   "execution_count": null,
   "id": "a52edbe8-24ba-476c-97b7-c9a6b3bc9c82",
   "metadata": {},
   "outputs": [],
   "source": []
  }
 ],
 "metadata": {
  "kernelspec": {
   "display_name": "Python 3 (ipykernel)",
   "language": "python",
   "name": "python3"
  },
  "language_info": {
   "codemirror_mode": {
    "name": "ipython",
    "version": 3
   },
   "file_extension": ".py",
   "mimetype": "text/x-python",
   "name": "python",
   "nbconvert_exporter": "python",
   "pygments_lexer": "ipython3",
   "version": "3.8.10"
  }
 },
 "nbformat": 4,
 "nbformat_minor": 5
}
