{
 "cells": [
  {
   "cell_type": "code",
   "execution_count": 1,
   "id": "221e1b75-cd8e-4260-8451-8248fca29a80",
   "metadata": {},
   "outputs": [],
   "source": [
    "import requests\n",
    "from bs4 import BeautifulSoup"
   ]
  },
  {
   "cell_type": "code",
   "execution_count": 2,
   "id": "4839a310-0fc9-415f-a1f6-b7bf6177aa18",
   "metadata": {},
   "outputs": [],
   "source": [
    "globo_url = 'https://www.globo.com/'\n",
    "page = requests.get(globo_url)"
   ]
  },
  {
   "cell_type": "code",
   "execution_count": 3,
   "id": "328ce705-ed6a-4fac-bd26-9480c0bf706e",
   "metadata": {},
   "outputs": [
    {
     "data": {
      "text/plain": [
       "<Response [200]>"
      ]
     },
     "execution_count": 3,
     "metadata": {},
     "output_type": "execute_result"
    }
   ],
   "source": [
    "page"
   ]
  },
  {
   "cell_type": "code",
   "execution_count": 7,
   "id": "26ecf83b-ae52-4b09-bb66-8a02cf1ac3b9",
   "metadata": {},
   "outputs": [],
   "source": [
    "resposta = page.text"
   ]
  },
  {
   "cell_type": "code",
   "execution_count": 8,
   "id": "127af2b9-186c-44e2-ab3e-8e733b2be187",
   "metadata": {},
   "outputs": [],
   "source": [
    "soup = BeautifulSoup(resposta, 'html.parser')"
   ]
  },
  {
   "cell_type": "code",
   "execution_count": 11,
   "id": "2efc2203-608b-4fee-ba17-5283f63a9204",
   "metadata": {},
   "outputs": [],
   "source": [
    "noticias = soup.find_all('h2', {'class': 'post__title'})"
   ]
  },
  {
   "cell_type": "code",
   "execution_count": 13,
   "id": "db812537-0e8b-4dee-a37c-5a8aa33b93e9",
   "metadata": {},
   "outputs": [
    {
     "data": {
      "text/plain": [
       "[<h2 class=\"post__title\">Brasil resolve no primeiro tempo e vence Gana em amistoso</h2>,\n",
       " <h2 class=\"post__title\">Richarlison: 'Espero que o povo brasileiro acredite mais em mim'</h2>,\n",
       " <h2 class=\"post__title\">Vini Jr faz cruzamento de trivela no melhor estilo de Modric; vídeo</h2>,\n",
       " <h2 class=\"post__title\">Veja o pós-jogo ao vivo com entrevistas e repercussões</h2>,\n",
       " <h2 class=\"post__title\">Itália vence, rebaixa a Inglaterra e mantém chance na Liga</h2>,\n",
       " <h2 class=\"post__title\">Com gol de calcanhar, Hungria vence a Alemanha fora de casa</h2>,\n",
       " <h2 class=\"post__title\"> Joia da base renova com o Flamengo com multa estipulada em R$ 356 mi</h2>,\n",
       " <h2 class=\"post__title\">SIGA: Federer se despede do tênis na Laver Cup</h2>,\n",
       " <h2 class=\"post__title\">Bill Gates, Hugh Grant, Rod Laver... famosos vão ao jogo</h2>,\n",
       " <h2 class=\"post__title\">'Pantanal': veja o rosto da filha de Juma e Jove </h2>,\n",
       " <h2 class=\"post__title\">Torturado e estuprado, Alcides faz pedido para Zaquieu</h2>,\n",
       " <h2 class=\"post__title\">Alcides vai revelar a Maria que matou Tenório </h2>,\n",
       " <h2 class=\"post__title\">Marquezine brilha com look sexy na 1ª fila na semana de moda de Milão</h2>,\n",
       " <h2 class=\"post__title\">Mãe de Chay Suede faz 50 anos e fãs comentam: 'Pensei que fosse irmã'</h2>,\n",
       " <h2 class=\"post__title\">Datafolha: 1 em cada 5 eleitores de Ciro e Tebet daria voto útil</h2>,\n",
       " <h2 class=\"post__title\">Blog: abstenção e voto útil podem decidir eleição</h2>,\n",
       " <h2 class=\"post__title\">Tebet aciona TSE contra propaganda de Bolsonaro</h2>,\n",
       " <h2 class=\"post__title\">Blog: aliados temem 'aloprada' de Bolsonaro</h2>,\n",
       " <h2 class=\"post__title\">Ucrânia diz que derrubou veículo aéreo não-tripulado</h2>,\n",
       " <h2 class=\"post__title\">'Vou quebrar meu braço ou minha perna', diz russo</h2>,\n",
       " <h2 class=\"post__title\">Avião com Jair Bolsonaro arremete no aeroporto em BH</h2>,\n",
       " <h2 class=\"post__title\">Lula decide não divulgar versão final de plano de governo </h2>,\n",
       " <h2 class=\"post__title\">Peão de 18 anos morre em rodeio em SP; imagens fortes</h2>,\n",
       " <h2 class=\"post__title\">6 coisas dos celulares antigos que fazem falta nos smartphones atuais</h2>,\n",
       " <h2 class=\"post__title\">Suposto hacker de GTA 6 e da Uber é preso no Reino Unido</h2>,\n",
       " <h2 class=\"post__title\">‘Estou sendo rastreado?’ Ferramenta grátis diz se celular tem app espião</h2>,\n",
       " <h2 class=\"post__title\">App adiciona o Dynamic Island do iPhone 14 Pro ao Android; saiba usar</h2>,\n",
       " <h2 class=\"post__title\">Justin Bieber reposta tatuagem feita por brasileiro: 'Estou tremendo'</h2>,\n",
       " <h2 class=\"post__title\">Personagem de Douglas Silva terá doença que causa ereções involuntárias</h2>,\n",
       " <h2 class=\"post__title\">Bruna Maia se vinga de 'esquerdomacho' em romance de estreia</h2>,\n",
       " <h2 class=\"post__title\">Pé de moleque, pudim, pipoca: veja como fazer sorvete com sabor de sobremesas clássicas</h2>,\n",
       " <h2 class=\"post__title\">No Dia do Sorvete, conheça as sorveterias do Brasil entre as 50 melhores do mundo</h2>,\n",
       " <h2 class=\"post__title\">Alegre o dia do seu bichinho com picolés 'pet friendly' nutritivos e muito gostosos</h2>,\n",
       " <h2 class=\"post__title\">Maruan é reconhecido por Laura, e Labibe fica perdida sem entender </h2>,\n",
       " <h2 class=\"post__title\">Joca defende Lou e sofre nas mãos de Nadir após verdade vir à tona</h2>,\n",
       " <h2 class=\"post__title\">Mumuzinho, Xande de Pilares e DG 'colocam' música em novela</h2>,\n",
       " <h2 class=\"post__title\">'A Próxima Vítima' chega ao Globoplay; veja 'antes e depois' do elenco</h2>,\n",
       " <h2 class=\"post__title\">Rota 66 está no Globoplay! Uma história violenta e real, com sangue nas mãos da polícia paulista</h2>,\n",
       " <h2 class=\"post__title\">Inspirada em casos reais... reais até demais! Não perca a 2ª temporada de Arcanjo Renegado</h2>,\n",
       " <h2 class=\"post__title\">Rota 66, Arcanjo Renegado e muitas outras séries, filmes e novelas para ver quando e onde quiser!</h2>,\n",
       " <h2 class=\"post__title\">Peão de 18 anos morre após montar touro em rodeio no interior de SP; vídeo</h2>,\n",
       " <h2 class=\"post__title\">Padrasto é flagrado sem cueca com enteada de 11 anos dentro de carro e é preso em SC</h2>,\n",
       " <h2 class=\"post__title\">Atriz pornô é condenada a um ano e oito meses de prisão por tráfico de drogas no litoral de SP</h2>,\n",
       " <h2 class=\"post__title\">Sem 'bala de prata', comitê racha e aliados temem 'aloprada' de Bolsonaro sobre fake news e urnas</h2>,\n",
       " <h2 class=\"post__title\">Sete mulheres denunciam à polícia golpista conhecido como 'galã do Tinder'</h2>,\n",
       " <h2 class=\"post__title\">Bruxaria vira contra o Bruxo: Ronaldinho leva caneta de tiktoker e fica bravo</h2>,\n",
       " <h2 class=\"post__title\">Seleção estreia nova camisa amarela nesta sexta contra Gana</h2>,\n",
       " <h2 class=\"post__title\">Zagueiro dos EUA faz golaço de (muito) antes do meio de campo; assista</h2>,\n",
       " <h2 class=\"post__title\">Carrasco de rivais e promessa precoce: quem é Leandro, o novo goleiro-artilheiro do São Paulo</h2>,\n",
       " <h2 class=\"post__title\">Joia da base, Werton renova com o Flamengo até 2024; multa é de 70 milhões de euros</h2>,\n",
       " <h2 class=\"post__title\">Bruno, da dupla com Marrone, faz piada machista e posta imagem de influenciadora sem autorização </h2>,\n",
       " <h2 class=\"post__title\">Pantanal: após ser estuprado por Tenório, Alcides faz pedido para Zaquieu</h2>,\n",
       " <h2 class=\"post__title\">Pantanal: Alcides revelará a Maria que matou Tenório </h2>,\n",
       " <h2 class=\"post__title\">Jesus Luz e Aline Campos posam nus e mostram marca de nascença iguais</h2>,\n",
       " <h2 class=\"post__title\">De menina rebelde a respeitada artista: a trajetória da filha de Isabela Garcia</h2>]"
      ]
     },
     "execution_count": 13,
     "metadata": {},
     "output_type": "execute_result"
    }
   ],
   "source": [
    "noticias"
   ]
  },
  {
   "cell_type": "code",
   "execution_count": 14,
   "id": "9455eda3-c436-4858-ab35-b0cf82270763",
   "metadata": {},
   "outputs": [
    {
     "name": "stdout",
     "output_type": "stream",
     "text": [
      "Brasil resolve no primeiro tempo e vence Gana em amistoso\n",
      "Richarlison: 'Espero que o povo brasileiro acredite mais em mim'\n",
      "Vini Jr faz cruzamento de trivela no melhor estilo de Modric; vídeo\n",
      "Veja o pós-jogo ao vivo com entrevistas e repercussões\n",
      "Itália vence, rebaixa a Inglaterra e mantém chance na Liga\n",
      "Com gol de calcanhar, Hungria vence a Alemanha fora de casa\n",
      " Joia da base renova com o Flamengo com multa estipulada em R$ 356 mi\n",
      "SIGA: Federer se despede do tênis na Laver Cup\n",
      "Bill Gates, Hugh Grant, Rod Laver... famosos vão ao jogo\n",
      "'Pantanal': veja o rosto da filha de Juma e Jove \n",
      "Torturado e estuprado, Alcides faz pedido para Zaquieu\n",
      "Alcides vai revelar a Maria que matou Tenório \n",
      "Marquezine brilha com look sexy na 1ª fila na semana de moda de Milão\n",
      "Mãe de Chay Suede faz 50 anos e fãs comentam: 'Pensei que fosse irmã'\n",
      "Datafolha: 1 em cada 5 eleitores de Ciro e Tebet daria voto útil\n",
      "Blog: abstenção e voto útil podem decidir eleição\n",
      "Tebet aciona TSE contra propaganda de Bolsonaro\n",
      "Blog: aliados temem 'aloprada' de Bolsonaro\n",
      "Ucrânia diz que derrubou veículo aéreo não-tripulado\n",
      "'Vou quebrar meu braço ou minha perna', diz russo\n",
      "Avião com Jair Bolsonaro arremete no aeroporto em BH\n",
      "Lula decide não divulgar versão final de plano de governo \n",
      "Peão de 18 anos morre em rodeio em SP; imagens fortes\n",
      "6 coisas dos celulares antigos que fazem falta nos smartphones atuais\n",
      "Suposto hacker de GTA 6 e da Uber é preso no Reino Unido\n",
      "‘Estou sendo rastreado?’ Ferramenta grátis diz se celular tem app espião\n",
      "App adiciona o Dynamic Island do iPhone 14 Pro ao Android; saiba usar\n",
      "Justin Bieber reposta tatuagem feita por brasileiro: 'Estou tremendo'\n",
      "Personagem de Douglas Silva terá doença que causa ereções involuntárias\n",
      "Bruna Maia se vinga de 'esquerdomacho' em romance de estreia\n",
      "Pé de moleque, pudim, pipoca: veja como fazer sorvete com sabor de sobremesas clássicas\n",
      "No Dia do Sorvete, conheça as sorveterias do Brasil entre as 50 melhores do mundo\n",
      "Alegre o dia do seu bichinho com picolés 'pet friendly' nutritivos e muito gostosos\n",
      "Maruan é reconhecido por Laura, e Labibe fica perdida sem entender \n",
      "Joca defende Lou e sofre nas mãos de Nadir após verdade vir à tona\n",
      "Mumuzinho, Xande de Pilares e DG 'colocam' música em novela\n",
      "'A Próxima Vítima' chega ao Globoplay; veja 'antes e depois' do elenco\n",
      "Rota 66 está no Globoplay! Uma história violenta e real, com sangue nas mãos da polícia paulista\n",
      "Inspirada em casos reais... reais até demais! Não perca a 2ª temporada de Arcanjo Renegado\n",
      "Rota 66, Arcanjo Renegado e muitas outras séries, filmes e novelas para ver quando e onde quiser!\n",
      "Peão de 18 anos morre após montar touro em rodeio no interior de SP; vídeo\n",
      "Padrasto é flagrado sem cueca com enteada de 11 anos dentro de carro e é preso em SC\n",
      "Atriz pornô é condenada a um ano e oito meses de prisão por tráfico de drogas no litoral de SP\n",
      "Sem 'bala de prata', comitê racha e aliados temem 'aloprada' de Bolsonaro sobre fake news e urnas\n",
      "Sete mulheres denunciam à polícia golpista conhecido como 'galã do Tinder'\n",
      "Bruxaria vira contra o Bruxo: Ronaldinho leva caneta de tiktoker e fica bravo\n",
      "Seleção estreia nova camisa amarela nesta sexta contra Gana\n",
      "Zagueiro dos EUA faz golaço de (muito) antes do meio de campo; assista\n",
      "Carrasco de rivais e promessa precoce: quem é Leandro, o novo goleiro-artilheiro do São Paulo\n",
      "Joia da base, Werton renova com o Flamengo até 2024; multa é de 70 milhões de euros\n",
      "Bruno, da dupla com Marrone, faz piada machista e posta imagem de influenciadora sem autorização \n",
      "Pantanal: após ser estuprado por Tenório, Alcides faz pedido para Zaquieu\n",
      "Pantanal: Alcides revelará a Maria que matou Tenório \n",
      "Jesus Luz e Aline Campos posam nus e mostram marca de nascença iguais\n",
      "De menina rebelde a respeitada artista: a trajetória da filha de Isabela Garcia\n"
     ]
    }
   ],
   "source": [
    "for i in range (len(noticias)):\n",
    "    print(noticias[i].text)"
   ]
  },
  {
   "cell_type": "code",
   "execution_count": null,
   "id": "c0d14d07-cf16-4007-a377-c1c503ed9796",
   "metadata": {},
   "outputs": [],
   "source": []
  }
 ],
 "metadata": {
  "kernelspec": {
   "display_name": "Python 3 (ipykernel)",
   "language": "python",
   "name": "python3"
  },
  "language_info": {
   "codemirror_mode": {
    "name": "ipython",
    "version": 3
   },
   "file_extension": ".py",
   "mimetype": "text/x-python",
   "name": "python",
   "nbconvert_exporter": "python",
   "pygments_lexer": "ipython3",
   "version": "3.9.12"
  }
 },
 "nbformat": 4,
 "nbformat_minor": 5
}
