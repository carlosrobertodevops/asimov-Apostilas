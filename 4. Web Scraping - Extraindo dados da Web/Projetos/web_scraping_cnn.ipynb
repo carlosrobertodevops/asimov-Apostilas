{
 "cells": [
  {
   "cell_type": "code",
   "execution_count": 1,
   "id": "0ad9019c-edfa-4d6a-8816-504849bd78c9",
   "metadata": {},
   "outputs": [],
   "source": [
    "import requests\n",
    "from bs4 import BeautifulSoup\n",
    "import pandas as pd"
   ]
  },
  {
   "cell_type": "code",
   "execution_count": 2,
   "id": "e0b02b75-6936-4914-8eda-1df0fad0c873",
   "metadata": {},
   "outputs": [
    {
     "data": {
      "text/plain": [
       "<Response [200]>"
      ]
     },
     "execution_count": 2,
     "metadata": {},
     "output_type": "execute_result"
    }
   ],
   "source": [
    "cnn_url = 'https://www.cnnbrasil.com.br/'\n",
    "browsers = {'User-Agent': \"Mozilla/5.0 (Windows NT 10.0; Win64; x64) AppleWebKit/537.36 \\(KHTML, like Gecko) Chrome / 86.0.4240.198Safari / 537.36\"}\n",
    "page = requests.get(cnn_url, headers = browsers)\n",
    "page"
   ]
  },
  {
   "cell_type": "code",
   "execution_count": 3,
   "id": "0af7dbb6-f092-4400-a904-30029e29a6d9",
   "metadata": {},
   "outputs": [],
   "source": [
    "resposta = page.text\n",
    "soup = BeautifulSoup(resposta, 'html.parser')\n",
    "noticias = soup.find_all('h3', {'class': 'headline__secundary_title home__title'})"
   ]
  },
  {
   "cell_type": "code",
   "execution_count": 6,
   "id": "7b150d49-7e4d-46d7-8d9a-b2aaca690c3e",
   "metadata": {},
   "outputs": [
    {
     "data": {
      "text/plain": [
       "[<h3 class=\"headline__secundary_title home__title\">De forma privada, Estados Unidos alertaram a Rússia contra uso de armas nucleares</h3>,\n",
       " <h3 class=\"headline__secundary_title home__title\">Fala de Lula sobre saldo da balança comercial precisa de contexto</h3>,\n",
       " <h3 class=\"headline__secundary_title home__title\">Fala de Bolsonaro sobre melhora da economia precisa de contexto</h3>,\n",
       " <h3 class=\"headline__secundary_title home__title\">Imagem mostra fluxo de voos que estão saindo da Rússia após mobilização parcial</h3>,\n",
       " <h3 class=\"headline__secundary_title home__title\">Especialista em aviação é a mais nova vítima de mortes misteriosas na Rússia</h3>,\n",
       " <h3 class=\"headline__secundary_title home__title\">Patagônia chilena: a força da natureza no Parque Nacional Torres del Paine</h3>,\n",
       " <h3 class=\"headline__secundary_title home__title\">Bloqueio da China seria ato de guerra, Taiwan não se renderia, diz oficial</h3>,\n",
       " <h3 class=\"headline__secundary_title home__title\">Preços do petróleo batem mínima de 8 meses com dólar forte e temores de recessão</h3>,\n",
       " <h3 class=\"headline__secundary_title home__title\">\"À Prioli\": Maitê Proença fala sobre inspirações e reinvenção profissional</h3>,\n",
       " <h3 class=\"headline__secundary_title home__title\">Promessa do 5G será fomentada por tecnologia patenteada, diz Christina Petersson, diretora da Ericsson</h3>,\n",
       " <h3 class=\"headline__secundary_title home__title\">Você não deve tomar banho durante uma tempestade e a ciência explica o motivo</h3>,\n",
       " <h3 class=\"headline__secundary_title home__title\">Oi Soluções cresce junto ao mercado B2B com Cloud Partner Solutions</h3>]"
      ]
     },
     "execution_count": 6,
     "metadata": {},
     "output_type": "execute_result"
    }
   ],
   "source": [
    "noticias"
   ]
  },
  {
   "cell_type": "code",
   "execution_count": 7,
   "id": "5846195c-5b91-4681-8ab8-6d9be2d88501",
   "metadata": {},
   "outputs": [
    {
     "name": "stdout",
     "output_type": "stream",
     "text": [
      "De forma privada, Estados Unidos alertaram a Rússia contra uso de armas nucleares\n",
      "Fala de Lula sobre saldo da balança comercial precisa de contexto\n",
      "Fala de Bolsonaro sobre melhora da economia precisa de contexto\n",
      "Imagem mostra fluxo de voos que estão saindo da Rússia após mobilização parcial\n",
      "Especialista em aviação é a mais nova vítima de mortes misteriosas na Rússia\n",
      "Patagônia chilena: a força da natureza no Parque Nacional Torres del Paine\n",
      "Bloqueio da China seria ato de guerra, Taiwan não se renderia, diz oficial\n",
      "Preços do petróleo batem mínima de 8 meses com dólar forte e temores de recessão\n",
      "\"À Prioli\": Maitê Proença fala sobre inspirações e reinvenção profissional\n",
      "Promessa do 5G será fomentada por tecnologia patenteada, diz Christina Petersson, diretora da Ericsson\n",
      "Você não deve tomar banho durante uma tempestade e a ciência explica o motivo\n",
      "Oi Soluções cresce junto ao mercado B2B com Cloud Partner Solutions\n"
     ]
    }
   ],
   "source": [
    "for i in range(len(noticias)):\n",
    "    print(noticias[i].text)"
   ]
  },
  {
   "cell_type": "code",
   "execution_count": null,
   "id": "299b1a4f-c70b-44b4-bfbb-006902699523",
   "metadata": {},
   "outputs": [],
   "source": []
  }
 ],
 "metadata": {
  "kernelspec": {
   "display_name": "Python 3 (ipykernel)",
   "language": "python",
   "name": "python3"
  },
  "language_info": {
   "codemirror_mode": {
    "name": "ipython",
    "version": 3
   },
   "file_extension": ".py",
   "mimetype": "text/x-python",
   "name": "python",
   "nbconvert_exporter": "python",
   "pygments_lexer": "ipython3",
   "version": "3.9.12"
  }
 },
 "nbformat": 4,
 "nbformat_minor": 5
}
