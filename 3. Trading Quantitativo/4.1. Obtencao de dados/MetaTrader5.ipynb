{
 "cells": [
  {
   "cell_type": "markdown",
   "id": "b7b81285-4059-4cb2-b5da-fa382d878688",
   "metadata": {},
   "source": [
    "https://www.mql5.com/en/docs/integration/python_metatrader5"
   ]
  },
  {
   "cell_type": "code",
   "execution_count": 18,
   "id": "df2bc31d-fcf4-43fa-8826-d3bc0c0af2b0",
   "metadata": {},
   "outputs": [],
   "source": [
    "import MetaTrader5 as mt5\n",
    "from datetime import datetime, timedelta\n",
    "import pandas as pd"
   ]
  },
  {
   "cell_type": "code",
   "execution_count": 2,
   "id": "56ab3461-3860-4d64-ae93-681b3212c048",
   "metadata": {},
   "outputs": [],
   "source": [
    "# connect to MetaTrader 5\n",
    "if not mt5.initialize():\n",
    "    print(\"initialize() failed\")\n",
    "    mt5.shutdown()"
   ]
  },
  {
   "cell_type": "code",
   "execution_count": 8,
   "id": "34cadb50-faa0-40fa-a693-48b000693299",
   "metadata": {},
   "outputs": [],
   "source": [
    "# Lista todos os símbolos\n",
    "symbols = mt5.symbols_get()"
   ]
  },
  {
   "cell_type": "code",
   "execution_count": 7,
   "id": "8a6c0a75-ae34-4292-8b05-4b7f4b5a64ff",
   "metadata": {},
   "outputs": [
    {
     "data": {
      "text/plain": [
       "SymbolInfo(custom=False, chart_mode=1, select=False, visible=False, session_deals=0, session_buy_orders=0, session_sell_orders=0, volume=0, volumehigh=0, volumelow=0, time=0, digits=3, spread=0, spread_float=True, ticks_bookdepth=32, trade_calc_mode=33, trade_mode=4, start_time=0, expiration_time=1672337459, trade_stops_level=0, trade_freeze_level=0, trade_exemode=3, swap_mode=0, swap_rollover3days=3, margin_hedged_use_leg=False, expiration_mode=2, filling_mode=3, order_mode=127, order_gtc_mode=2, option_mode=0, option_right=0, bid=0.0, bidhigh=0.0, bidlow=0.0, ask=0.0, askhigh=0.0, asklow=0.0, last=0.0, lasthigh=0.0, lastlow=0.0, volume_real=0.0, volumehigh_real=0.0, volumelow_real=0.0, option_strike=0.0, point=0.001, trade_tick_value=0.0005, trade_tick_value_profit=0.0005, trade_tick_value_loss=0.0005, trade_tick_size=0.001, trade_contract_size=1.0, trade_accrued_interest=0.0, trade_face_value=0.0, trade_liquidity_rate=0.0, volume_min=1.0, volume_max=300.0, volume_step=1.0, volume_limit=0.0, swap_long=0.0, swap_short=0.0, margin_initial=3.2706, margin_maintenance=3.2706, session_volume=0.0, session_turnover=0.0, session_interest=0.0, session_buy_orders_volume=0.0, session_sell_orders_volume=0.0, session_open=0.0, session_close=0.0, session_aw=0.0, session_price_settlement=0.0, session_price_limit_min=0.0, session_price_limit_max=0.0, margin_hedged=0.0, price_change=0.0, price_volatility=0.0, price_theoretical=0.0, price_greeks_delta=0.0, price_greeks_theta=0.0, price_greeks_gamma=0.0, price_greeks_vega=0.0, price_greeks_rho=0.0, price_greeks_omega=0.0, price_sensitivity=0.0, basis='', category='', currency_base='BRL', currency_profit='BRL', currency_margin='BRL', bank='', description='COMPROM.CAMBIAL', exchange='', formula='', isin='BRBMEFDCO0S8', name='DCOF23', page='', path='BMF\\\\DCOF23')"
      ]
     },
     "execution_count": 7,
     "metadata": {},
     "output_type": "execute_result"
    }
   ],
   "source": [
    "symbols[0]"
   ]
  },
  {
   "cell_type": "code",
   "execution_count": 10,
   "id": "71ff633f-de4e-47ef-b4af-29a6a23d6a47",
   "metadata": {},
   "outputs": [
    {
     "data": {
      "text/plain": [
       "SymbolInfo(custom=False, chart_mode=1, select=False, visible=False, session_deals=0, session_buy_orders=0, session_sell_orders=0, volume=0, volumehigh=0, volumelow=0, time=0, digits=2, spread=0, spread_float=True, ticks_bookdepth=32, trade_calc_mode=32, trade_mode=4, start_time=0, expiration_time=0, trade_stops_level=0, trade_freeze_level=0, trade_exemode=3, swap_mode=0, swap_rollover3days=3, margin_hedged_use_leg=False, expiration_mode=11, filling_mode=3, order_mode=127, order_gtc_mode=0, option_mode=0, option_right=0, bid=0.0, bidhigh=0.0, bidlow=0.0, ask=0.0, askhigh=0.0, asklow=0.0, last=0.0, lasthigh=0.0, lastlow=0.0, volume_real=0.0, volumehigh_real=0.0, volumelow_real=0.0, option_strike=0.0, point=0.01, trade_tick_value=0.01, trade_tick_value_profit=0.01, trade_tick_value_loss=0.01, trade_tick_size=0.01, trade_contract_size=1.0, trade_accrued_interest=0.0, trade_face_value=0.0, trade_liquidity_rate=0.0, volume_min=100.0, volume_max=56020428.0, volume_step=100.0, volume_limit=0.0, swap_long=0.0, swap_short=0.0, margin_initial=0.0, margin_maintenance=0.0, session_volume=0.0, session_turnover=0.0, session_interest=0.0, session_buy_orders_volume=0.0, session_sell_orders_volume=0.0, session_open=0.0, session_close=0.0, session_aw=0.0, session_price_settlement=0.0, session_price_limit_min=0.0, session_price_limit_max=0.0, margin_hedged=0.0, price_change=0.0, price_volatility=0.0, price_theoretical=0.0, price_greeks_delta=0.0, price_greeks_theta=0.0, price_greeks_gamma=0.0, price_greeks_vega=0.0, price_greeks_rho=0.0, price_greeks_omega=0.0, price_sensitivity=0.0, basis='', category='', currency_base='BRL', currency_profit='BRL', currency_margin='BRL', bank='', description='PETROBRAS   PN  EDJ N2', exchange='', formula='', isin='BRPETRACNPR6', name='PETR4', page='', path='BOVESPA\\\\A VISTA\\\\PETR4')"
      ]
     },
     "execution_count": 10,
     "metadata": {},
     "output_type": "execute_result"
    }
   ],
   "source": [
    "# Encontra dados de um ticker\n",
    "mt5.symbol_info('PETR4')"
   ]
  },
  {
   "cell_type": "markdown",
   "id": "9f6ad62e-6790-4e13-8bb2-1cc486d903a4",
   "metadata": {},
   "source": [
    "## Obtendo dados de Ticks"
   ]
  },
  {
   "cell_type": "code",
   "execution_count": 11,
   "id": "210d4174-b401-46ce-a1a8-c0c1e4c660b1",
   "metadata": {},
   "outputs": [
    {
     "data": {
      "text/plain": [
       "<function MetaTrader5._core.copy_ticks_range>"
      ]
     },
     "execution_count": 11,
     "metadata": {},
     "output_type": "execute_result"
    }
   ],
   "source": [
    "# https://www.mql5.com/en/docs/integration/python_metatrader5/mt5copyticksrange_py\n",
    "mt5.copy_ticks_range()"
   ]
  },
  {
   "cell_type": "code",
   "execution_count": 15,
   "id": "0d31e0e8-f0a3-42f1-b821-07376c862ebd",
   "metadata": {},
   "outputs": [],
   "source": [
    "ticker = 'PETR4'\n",
    "t0 = datetime.today() - timedelta(days=120)\n",
    "t1 = datetime.today()\n",
    "\n",
    "# request tick data\n",
    "ticks = mt5.copy_ticks_range(ticker, t0, t1, mt5.COPY_TICKS_TRADE)"
   ]
  },
  {
   "cell_type": "code",
   "execution_count": 29,
   "id": "9633a143-4a50-4134-b8ae-dea7f8dd8e9e",
   "metadata": {},
   "outputs": [],
   "source": [
    "df = pd.DataFrame(ticks)\n",
    "df.set_index(\"time\", inplace=True)\n",
    "df.index = pd.to_datetime(df.index, utc=True, unit='s')"
   ]
  },
  {
   "cell_type": "code",
   "execution_count": 31,
   "id": "af5c9bd3-4440-499a-9444-c5bb049cdafb",
   "metadata": {},
   "outputs": [],
   "source": [
    "def buy_or_sell(flag):\n",
    "    '''\n",
    "    see https://www.mql5.com/en/forum/75268\n",
    "    for explanation on MetaTrader flags\n",
    "    '''\n",
    "    if (flag & 32) and (flag & 64):\n",
    "        return 'both'\n",
    "    elif flag & 32:\n",
    "        return 'buy'\n",
    "    elif flag & 64:\n",
    "        return 'sell'"
   ]
  },
  {
   "cell_type": "code",
   "execution_count": 34,
   "id": "8af1e6bf-25d1-4dee-9916-ac7105ab4c93",
   "metadata": {},
   "outputs": [],
   "source": [
    "df[\"flags\"] = df[\"flags\"].apply(buy_or_sell)"
   ]
  },
  {
   "cell_type": "code",
   "execution_count": 37,
   "id": "1479f96c-641f-48c3-a567-b4eef1568d11",
   "metadata": {},
   "outputs": [],
   "source": [
    "df.tail(50000).to_csv(\"petr4_ticks.csv\", sep=\";\", decimal=\",\")"
   ]
  }
 ],
 "metadata": {
  "kernelspec": {
   "display_name": "Python 3 (ipykernel)",
   "language": "python",
   "name": "python3"
  },
  "language_info": {
   "codemirror_mode": {
    "name": "ipython",
    "version": 3
   },
   "file_extension": ".py",
   "mimetype": "text/x-python",
   "name": "python",
   "nbconvert_exporter": "python",
   "pygments_lexer": "ipython3",
   "version": "3.9.7"
  }
 },
 "nbformat": 4,
 "nbformat_minor": 5
}
